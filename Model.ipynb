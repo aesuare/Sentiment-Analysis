{
 "cells": [
  {
   "cell_type": "markdown",
   "id": "827bb961",
   "metadata": {},
   "source": [
    "# Sentiment Analysis IPYNB File\n",
    "\n",
    "This file uses tweets and develops a model that can - based on those tweets - understand sentiment of natural language and detect whether any given statement is more positive or negative."
   ]
  },
  {
   "cell_type": "code",
   "execution_count": 3,
   "id": "6636d5ec",
   "metadata": {},
   "outputs": [
    {
     "name": "stdout",
     "output_type": "stream",
     "text": [
      "Requirement already satisfied: ipykernel in /Users/alfredosuarez/opt/anaconda3/lib/python3.8/site-packages (5.3.4)\n",
      "Requirement already satisfied: appnope in /Users/alfredosuarez/opt/anaconda3/lib/python3.8/site-packages (from ipykernel) (0.1.2)\n",
      "Requirement already satisfied: traitlets>=4.1.0 in /Users/alfredosuarez/opt/anaconda3/lib/python3.8/site-packages (from ipykernel) (5.0.5)\n",
      "Requirement already satisfied: jupyter-client in /Users/alfredosuarez/opt/anaconda3/lib/python3.8/site-packages (from ipykernel) (6.1.12)\n",
      "Requirement already satisfied: tornado>=4.2 in /Users/alfredosuarez/opt/anaconda3/lib/python3.8/site-packages (from ipykernel) (6.1)\n",
      "Requirement already satisfied: ipython>=5.0.0 in /Users/alfredosuarez/opt/anaconda3/lib/python3.8/site-packages (from ipykernel) (7.22.0)\n",
      "Requirement already satisfied: decorator in /Users/alfredosuarez/opt/anaconda3/lib/python3.8/site-packages (from ipython>=5.0.0->ipykernel) (5.0.6)\n",
      "Requirement already satisfied: setuptools>=18.5 in /Users/alfredosuarez/opt/anaconda3/lib/python3.8/site-packages (from ipython>=5.0.0->ipykernel) (52.0.0.post20210125)\n",
      "Requirement already satisfied: pexpect>4.3 in /Users/alfredosuarez/opt/anaconda3/lib/python3.8/site-packages (from ipython>=5.0.0->ipykernel) (4.8.0)\n",
      "Requirement already satisfied: pickleshare in /Users/alfredosuarez/opt/anaconda3/lib/python3.8/site-packages (from ipython>=5.0.0->ipykernel) (0.7.5)\n",
      "Requirement already satisfied: pygments in /Users/alfredosuarez/opt/anaconda3/lib/python3.8/site-packages (from ipython>=5.0.0->ipykernel) (2.8.1)\n",
      "Requirement already satisfied: backcall in /Users/alfredosuarez/opt/anaconda3/lib/python3.8/site-packages (from ipython>=5.0.0->ipykernel) (0.2.0)\n",
      "Requirement already satisfied: prompt-toolkit!=3.0.0,!=3.0.1,<3.1.0,>=2.0.0 in /Users/alfredosuarez/opt/anaconda3/lib/python3.8/site-packages (from ipython>=5.0.0->ipykernel) (3.0.17)\n",
      "Requirement already satisfied: jedi>=0.16 in /Users/alfredosuarez/opt/anaconda3/lib/python3.8/site-packages (from ipython>=5.0.0->ipykernel) (0.17.2)\n",
      "Requirement already satisfied: parso<0.8.0,>=0.7.0 in /Users/alfredosuarez/opt/anaconda3/lib/python3.8/site-packages (from jedi>=0.16->ipython>=5.0.0->ipykernel) (0.7.0)\n",
      "Requirement already satisfied: ptyprocess>=0.5 in /Users/alfredosuarez/opt/anaconda3/lib/python3.8/site-packages (from pexpect>4.3->ipython>=5.0.0->ipykernel) (0.7.0)\n",
      "Requirement already satisfied: wcwidth in /Users/alfredosuarez/opt/anaconda3/lib/python3.8/site-packages (from prompt-toolkit!=3.0.0,!=3.0.1,<3.1.0,>=2.0.0->ipython>=5.0.0->ipykernel) (0.2.5)\n",
      "Requirement already satisfied: ipython-genutils in /Users/alfredosuarez/opt/anaconda3/lib/python3.8/site-packages (from traitlets>=4.1.0->ipykernel) (0.2.0)\n",
      "Requirement already satisfied: python-dateutil>=2.1 in /Users/alfredosuarez/opt/anaconda3/lib/python3.8/site-packages (from jupyter-client->ipykernel) (2.8.1)\n",
      "Requirement already satisfied: jupyter-core>=4.6.0 in /Users/alfredosuarez/opt/anaconda3/lib/python3.8/site-packages (from jupyter-client->ipykernel) (4.7.1)\n",
      "Requirement already satisfied: pyzmq>=13 in /Users/alfredosuarez/opt/anaconda3/lib/python3.8/site-packages (from jupyter-client->ipykernel) (20.0.0)\n",
      "Requirement already satisfied: six>=1.5 in /Users/alfredosuarez/opt/anaconda3/lib/python3.8/site-packages (from python-dateutil>=2.1->jupyter-client->ipykernel) (1.16.0)\n",
      "Installed kernelspec .venv in /Users/alfredosuarez/Library/Jupyter/kernels/.venv\n",
      "zsh:source:1: no such file or directory: .venv/bin/activate\n",
      "Requirement already satisfied: numpy==1.18.5 in /Users/alfredosuarez/opt/anaconda3/lib/python3.8/site-packages (1.18.5)\n",
      "Requirement already satisfied: pandas==1.3.5 in /Users/alfredosuarez/opt/anaconda3/lib/python3.8/site-packages (1.3.5)\n",
      "Requirement already satisfied: python-dateutil>=2.7.3 in /Users/alfredosuarez/opt/anaconda3/lib/python3.8/site-packages (from pandas==1.3.5) (2.8.1)\n",
      "Requirement already satisfied: numpy>=1.17.3 in /Users/alfredosuarez/opt/anaconda3/lib/python3.8/site-packages (from pandas==1.3.5) (1.18.5)\n",
      "Requirement already satisfied: pytz>=2017.3 in /Users/alfredosuarez/opt/anaconda3/lib/python3.8/site-packages (from pandas==1.3.5) (2021.3)\n",
      "Requirement already satisfied: six>=1.5 in /Users/alfredosuarez/opt/anaconda3/lib/python3.8/site-packages (from python-dateutil>=2.7.3->pandas==1.3.5) (1.16.0)\n",
      "Requirement already satisfied: tensorflow==2.7.0 in /Users/alfredosuarez/opt/anaconda3/lib/python3.8/site-packages (2.7.0)\n",
      "Requirement already satisfied: typing-extensions>=3.6.6 in /Users/alfredosuarez/opt/anaconda3/lib/python3.8/site-packages (from tensorflow==2.7.0) (3.7.4.3)\n",
      "Requirement already satisfied: tensorboard~=2.6 in /Users/alfredosuarez/opt/anaconda3/lib/python3.8/site-packages (from tensorflow==2.7.0) (2.7.0)\n",
      "Requirement already satisfied: keras-preprocessing>=1.1.1 in /Users/alfredosuarez/opt/anaconda3/lib/python3.8/site-packages (from tensorflow==2.7.0) (1.1.2)\n",
      "Requirement already satisfied: google-pasta>=0.1.1 in /Users/alfredosuarez/opt/anaconda3/lib/python3.8/site-packages (from tensorflow==2.7.0) (0.2.0)\n",
      "Requirement already satisfied: six>=1.12.0 in /Users/alfredosuarez/opt/anaconda3/lib/python3.8/site-packages (from tensorflow==2.7.0) (1.16.0)\n",
      "Requirement already satisfied: numpy>=1.14.5 in /Users/alfredosuarez/opt/anaconda3/lib/python3.8/site-packages (from tensorflow==2.7.0) (1.18.5)\n",
      "Requirement already satisfied: protobuf>=3.9.2 in /Users/alfredosuarez/opt/anaconda3/lib/python3.8/site-packages (from tensorflow==2.7.0) (3.19.1)\n",
      "Requirement already satisfied: tensorflow-estimator<2.8,~=2.7.0rc0 in /Users/alfredosuarez/opt/anaconda3/lib/python3.8/site-packages (from tensorflow==2.7.0) (2.7.0)\n",
      "Requirement already satisfied: wheel<1.0,>=0.32.0 in /Users/alfredosuarez/opt/anaconda3/lib/python3.8/site-packages (from tensorflow==2.7.0) (0.36.2)\n",
      "Requirement already satisfied: absl-py>=0.4.0 in /Users/alfredosuarez/opt/anaconda3/lib/python3.8/site-packages (from tensorflow==2.7.0) (1.0.0)\n",
      "Requirement already satisfied: termcolor>=1.1.0 in /Users/alfredosuarez/opt/anaconda3/lib/python3.8/site-packages (from tensorflow==2.7.0) (1.1.0)\n",
      "Requirement already satisfied: libclang>=9.0.1 in /Users/alfredosuarez/opt/anaconda3/lib/python3.8/site-packages (from tensorflow==2.7.0) (12.0.0)\n",
      "Requirement already satisfied: grpcio<2.0,>=1.24.3 in /Users/alfredosuarez/opt/anaconda3/lib/python3.8/site-packages (from tensorflow==2.7.0) (1.42.0)\n",
      "Requirement already satisfied: keras<2.8,>=2.7.0rc0 in /Users/alfredosuarez/opt/anaconda3/lib/python3.8/site-packages (from tensorflow==2.7.0) (2.7.0)\n",
      "Requirement already satisfied: astunparse>=1.6.0 in /Users/alfredosuarez/opt/anaconda3/lib/python3.8/site-packages (from tensorflow==2.7.0) (1.6.3)\n",
      "Requirement already satisfied: opt-einsum>=2.3.2 in /Users/alfredosuarez/opt/anaconda3/lib/python3.8/site-packages (from tensorflow==2.7.0) (3.3.0)\n",
      "Requirement already satisfied: flatbuffers<3.0,>=1.12 in /Users/alfredosuarez/opt/anaconda3/lib/python3.8/site-packages (from tensorflow==2.7.0) (2.0)\n",
      "Requirement already satisfied: h5py>=2.9.0 in /Users/alfredosuarez/opt/anaconda3/lib/python3.8/site-packages (from tensorflow==2.7.0) (2.10.0)\n",
      "Requirement already satisfied: gast<0.5.0,>=0.2.1 in /Users/alfredosuarez/opt/anaconda3/lib/python3.8/site-packages (from tensorflow==2.7.0) (0.4.0)\n",
      "Requirement already satisfied: wrapt>=1.11.0 in /Users/alfredosuarez/opt/anaconda3/lib/python3.8/site-packages (from tensorflow==2.7.0) (1.12.1)\n",
      "Requirement already satisfied: tensorflow-io-gcs-filesystem>=0.21.0 in /Users/alfredosuarez/opt/anaconda3/lib/python3.8/site-packages (from tensorflow==2.7.0) (0.23.1)\n",
      "Requirement already satisfied: google-auth-oauthlib<0.5,>=0.4.1 in /Users/alfredosuarez/opt/anaconda3/lib/python3.8/site-packages (from tensorboard~=2.6->tensorflow==2.7.0) (0.4.6)\n",
      "Requirement already satisfied: tensorboard-data-server<0.7.0,>=0.6.0 in /Users/alfredosuarez/opt/anaconda3/lib/python3.8/site-packages (from tensorboard~=2.6->tensorflow==2.7.0) (0.6.1)\n",
      "Requirement already satisfied: werkzeug>=0.11.15 in /Users/alfredosuarez/opt/anaconda3/lib/python3.8/site-packages (from tensorboard~=2.6->tensorflow==2.7.0) (1.0.1)\n",
      "Requirement already satisfied: setuptools>=41.0.0 in /Users/alfredosuarez/opt/anaconda3/lib/python3.8/site-packages (from tensorboard~=2.6->tensorflow==2.7.0) (52.0.0.post20210125)\n",
      "Requirement already satisfied: requests<3,>=2.21.0 in /Users/alfredosuarez/opt/anaconda3/lib/python3.8/site-packages (from tensorboard~=2.6->tensorflow==2.7.0) (2.26.0)\n",
      "Requirement already satisfied: google-auth<3,>=1.6.3 in /Users/alfredosuarez/opt/anaconda3/lib/python3.8/site-packages (from tensorboard~=2.6->tensorflow==2.7.0) (2.3.3)\n",
      "Requirement already satisfied: tensorboard-plugin-wit>=1.6.0 in /Users/alfredosuarez/opt/anaconda3/lib/python3.8/site-packages (from tensorboard~=2.6->tensorflow==2.7.0) (1.8.0)\n",
      "Requirement already satisfied: markdown>=2.6.8 in /Users/alfredosuarez/opt/anaconda3/lib/python3.8/site-packages (from tensorboard~=2.6->tensorflow==2.7.0) (3.3.6)\n",
      "Requirement already satisfied: pyasn1-modules>=0.2.1 in /Users/alfredosuarez/opt/anaconda3/lib/python3.8/site-packages (from google-auth<3,>=1.6.3->tensorboard~=2.6->tensorflow==2.7.0) (0.2.8)\n",
      "Requirement already satisfied: rsa<5,>=3.1.4 in /Users/alfredosuarez/opt/anaconda3/lib/python3.8/site-packages (from google-auth<3,>=1.6.3->tensorboard~=2.6->tensorflow==2.7.0) (4.7.2)\n",
      "Requirement already satisfied: cachetools<5.0,>=2.0.0 in /Users/alfredosuarez/opt/anaconda3/lib/python3.8/site-packages (from google-auth<3,>=1.6.3->tensorboard~=2.6->tensorflow==2.7.0) (4.2.4)\n",
      "Requirement already satisfied: requests-oauthlib>=0.7.0 in /Users/alfredosuarez/opt/anaconda3/lib/python3.8/site-packages (from google-auth-oauthlib<0.5,>=0.4.1->tensorboard~=2.6->tensorflow==2.7.0) (1.3.0)\n",
      "Requirement already satisfied: importlib-metadata>=4.4 in /Users/alfredosuarez/opt/anaconda3/lib/python3.8/site-packages (from markdown>=2.6.8->tensorboard~=2.6->tensorflow==2.7.0) (4.8.2)\n"
     ]
    },
    {
     "name": "stdout",
     "output_type": "stream",
     "text": [
      "Requirement already satisfied: zipp>=0.5 in /Users/alfredosuarez/opt/anaconda3/lib/python3.8/site-packages (from importlib-metadata>=4.4->markdown>=2.6.8->tensorboard~=2.6->tensorflow==2.7.0) (3.4.1)\r\n",
      "Requirement already satisfied: pyasn1<0.5.0,>=0.4.6 in /Users/alfredosuarez/opt/anaconda3/lib/python3.8/site-packages (from pyasn1-modules>=0.2.1->google-auth<3,>=1.6.3->tensorboard~=2.6->tensorflow==2.7.0) (0.4.8)\r\n",
      "Requirement already satisfied: charset-normalizer~=2.0.0 in /Users/alfredosuarez/opt/anaconda3/lib/python3.8/site-packages (from requests<3,>=2.21.0->tensorboard~=2.6->tensorflow==2.7.0) (2.0.7)\r\n",
      "Requirement already satisfied: idna<4,>=2.5 in /Users/alfredosuarez/opt/anaconda3/lib/python3.8/site-packages (from requests<3,>=2.21.0->tensorboard~=2.6->tensorflow==2.7.0) (3.3)\r\n",
      "Requirement already satisfied: certifi>=2017.4.17 in /Users/alfredosuarez/opt/anaconda3/lib/python3.8/site-packages (from requests<3,>=2.21.0->tensorboard~=2.6->tensorflow==2.7.0) (2021.10.8)\r\n",
      "Requirement already satisfied: urllib3<1.27,>=1.21.1 in /Users/alfredosuarez/opt/anaconda3/lib/python3.8/site-packages (from requests<3,>=2.21.0->tensorboard~=2.6->tensorflow==2.7.0) (1.26.7)\r\n",
      "Requirement already satisfied: oauthlib>=3.0.0 in /Users/alfredosuarez/opt/anaconda3/lib/python3.8/site-packages (from requests-oauthlib>=0.7.0->google-auth-oauthlib<0.5,>=0.4.1->tensorboard~=2.6->tensorflow==2.7.0) (3.1.1)\r\n"
     ]
    }
   ],
   "source": [
    "# Initialize and activate virtual environment\n",
    "!pip install --user ipykernel\n",
    "!python -m ipykernel install --user --name=.venv\n",
    "!source .venv/bin/activate\n",
    "\n",
    "# Install dependencies\n",
    "!pip install numpy==1.18.5\n",
    "!pip install pandas==1.3.5\n",
    "!pip install tensorflow==2.7.0"
   ]
  },
  {
   "cell_type": "code",
   "execution_count": 4,
   "id": "dd3d9d7a",
   "metadata": {},
   "outputs": [
    {
     "ename": "ImportError",
     "evalue": "dlopen(/Users/alfredosuarez/opt/anaconda3/lib/python3.8/site-packages/tensorflow/python/_pywrap_tfe.so, 0x0002): Library not loaded: @rpath/_pywrap_tensorflow_internal.so\n  Referenced from: /Users/alfredosuarez/opt/anaconda3/lib/python3.8/site-packages/tensorflow/python/_pywrap_tfe.so\n  Reason: tried: '/Users/alfredosuarez/opt/anaconda3/lib/python3.8/site-packages/tensorflow/python/../../_solib_darwin_x86_64/_U_S_Stensorflow_Spython_C_Upywrap_Utfe.so___Utensorflow/_pywrap_tensorflow_internal.so' (no such file), '/Users/alfredosuarez/opt/anaconda3/lib/python3.8/site-packages/tensorflow/python/../../_solib_darwin_x86_64/_U_S_Stensorflow_Spython_C_Upywrap_Utensorflow_Uinternal_Umacos___Utensorflow_Spython/_pywrap_tensorflow_internal.so' (no such file), '/Users/alfredosuarez/opt/anaconda3/lib/python3.8/site-packages/tensorflow/python/_pywrap_tensorflow_internal.so' (no such file), '/Users/alfredosuarez/opt/anaconda3/lib/python3.8/site-packages/tensorflow/python/../_pywrap_tensorflow_internal.so' (no such file), '/Users/alfredosuarez/opt/anaconda3/lib/python3.8/site-packages/tensorflow/python/../../_solib_darwin_x86_64/_U_S_Stensorflow_Spython_C_Upywrap_Utfe.so___Utensorflow/_pywrap_tensorflow_internal.so' (no such file), '/Users/alfredosuarez/opt/anaconda3/lib/python3.8/site-packages/tensorflow/python/../../_solib_darwin_x86_64/_U_S_Stensorflow_Spython_C_Upywrap_Utensorflow_Uinternal_Umacos___Utensorflow_Spython/_pywrap_tensorflow_internal.so' (no such file), '/Users/alfredosuarez/opt/anaconda3/lib/python3.8/site-packages/tensorflow/python/_pywrap_tensorflow_internal.so' (no such file), '/Users/alfredosuarez/opt/anaconda3/lib/python3.8/site-packages/tensorflow/python/../_pywrap_tensorflow_internal.so' (no such file), '/Users/alfredosuarez/opt/anaconda3/lib/_pywrap_tensorflow_internal.so' (no such file), '/Users/alfredosuarez/opt/anaconda3/bin/../lib/_pywrap_tensorflow_internal.so' (no such file), '/Users/alfredosuarez/opt/anaconda3/lib/_pywrap_tensorflow_internal.so' (no such file), '/Users/alfredosuarez/opt/anaconda3/bin/../lib/_pywrap_tensorflow_internal.so' (no such file), '/usr/local/lib/_pywrap_tensorflow_internal.so' (no such file), '/usr/lib/_pywrap_tensorflow_internal.so' (no such file)",
     "output_type": "error",
     "traceback": [
      "\u001b[0;31m---------------------------------------------------------------------------\u001b[0m",
      "\u001b[0;31mImportError\u001b[0m                               Traceback (most recent call last)",
      "\u001b[0;32m<ipython-input-4-1842080c60c4>\u001b[0m in \u001b[0;36m<module>\u001b[0;34m\u001b[0m\n\u001b[1;32m      1\u001b[0m \u001b[0;32mimport\u001b[0m \u001b[0mnumpy\u001b[0m\u001b[0;34m\u001b[0m\u001b[0;34m\u001b[0m\u001b[0m\n\u001b[1;32m      2\u001b[0m \u001b[0;32mimport\u001b[0m \u001b[0mpandas\u001b[0m\u001b[0;34m\u001b[0m\u001b[0;34m\u001b[0m\u001b[0m\n\u001b[0;32m----> 3\u001b[0;31m \u001b[0;32mimport\u001b[0m \u001b[0mtensorflow\u001b[0m\u001b[0;34m\u001b[0m\u001b[0;34m\u001b[0m\u001b[0m\n\u001b[0m",
      "\u001b[0;32m~/opt/anaconda3/lib/python3.8/site-packages/tensorflow/__init__.py\u001b[0m in \u001b[0;36m<module>\u001b[0;34m\u001b[0m\n\u001b[1;32m     39\u001b[0m \u001b[0;32mimport\u001b[0m \u001b[0msys\u001b[0m \u001b[0;32mas\u001b[0m \u001b[0m_sys\u001b[0m\u001b[0;34m\u001b[0m\u001b[0;34m\u001b[0m\u001b[0m\n\u001b[1;32m     40\u001b[0m \u001b[0;34m\u001b[0m\u001b[0m\n\u001b[0;32m---> 41\u001b[0;31m \u001b[0;32mfrom\u001b[0m \u001b[0mtensorflow\u001b[0m\u001b[0;34m.\u001b[0m\u001b[0mpython\u001b[0m\u001b[0;34m.\u001b[0m\u001b[0mtools\u001b[0m \u001b[0;32mimport\u001b[0m \u001b[0mmodule_util\u001b[0m \u001b[0;32mas\u001b[0m \u001b[0m_module_util\u001b[0m\u001b[0;34m\u001b[0m\u001b[0;34m\u001b[0m\u001b[0m\n\u001b[0m\u001b[1;32m     42\u001b[0m \u001b[0;32mfrom\u001b[0m \u001b[0mtensorflow\u001b[0m\u001b[0;34m.\u001b[0m\u001b[0mpython\u001b[0m\u001b[0;34m.\u001b[0m\u001b[0mutil\u001b[0m\u001b[0;34m.\u001b[0m\u001b[0mlazy_loader\u001b[0m \u001b[0;32mimport\u001b[0m \u001b[0mLazyLoader\u001b[0m \u001b[0;32mas\u001b[0m \u001b[0m_LazyLoader\u001b[0m\u001b[0;34m\u001b[0m\u001b[0;34m\u001b[0m\u001b[0m\n\u001b[1;32m     43\u001b[0m \u001b[0;34m\u001b[0m\u001b[0m\n",
      "\u001b[0;32m~/opt/anaconda3/lib/python3.8/site-packages/tensorflow/python/__init__.py\u001b[0m in \u001b[0;36m<module>\u001b[0;34m\u001b[0m\n\u001b[1;32m     39\u001b[0m \u001b[0;34m\u001b[0m\u001b[0m\n\u001b[1;32m     40\u001b[0m \u001b[0;32mfrom\u001b[0m \u001b[0mtensorflow\u001b[0m\u001b[0;34m.\u001b[0m\u001b[0mpython\u001b[0m \u001b[0;32mimport\u001b[0m \u001b[0mpywrap_tensorflow\u001b[0m \u001b[0;32mas\u001b[0m \u001b[0m_pywrap_tensorflow\u001b[0m\u001b[0;34m\u001b[0m\u001b[0;34m\u001b[0m\u001b[0m\n\u001b[0;32m---> 41\u001b[0;31m \u001b[0;32mfrom\u001b[0m \u001b[0mtensorflow\u001b[0m\u001b[0;34m.\u001b[0m\u001b[0mpython\u001b[0m\u001b[0;34m.\u001b[0m\u001b[0meager\u001b[0m \u001b[0;32mimport\u001b[0m \u001b[0mcontext\u001b[0m\u001b[0;34m\u001b[0m\u001b[0;34m\u001b[0m\u001b[0m\n\u001b[0m\u001b[1;32m     42\u001b[0m \u001b[0;34m\u001b[0m\u001b[0m\n\u001b[1;32m     43\u001b[0m \u001b[0;31m# pylint: enable=wildcard-import\u001b[0m\u001b[0;34m\u001b[0m\u001b[0;34m\u001b[0m\u001b[0;34m\u001b[0m\u001b[0m\n",
      "\u001b[0;32m~/opt/anaconda3/lib/python3.8/site-packages/tensorflow/python/eager/context.py\u001b[0m in \u001b[0;36m<module>\u001b[0;34m\u001b[0m\n\u001b[1;32m     34\u001b[0m \u001b[0;32mfrom\u001b[0m \u001b[0mtensorflow\u001b[0m\u001b[0;34m.\u001b[0m\u001b[0mcore\u001b[0m\u001b[0;34m.\u001b[0m\u001b[0mprotobuf\u001b[0m \u001b[0;32mimport\u001b[0m \u001b[0mconfig_pb2\u001b[0m\u001b[0;34m\u001b[0m\u001b[0;34m\u001b[0m\u001b[0m\n\u001b[1;32m     35\u001b[0m \u001b[0;32mfrom\u001b[0m \u001b[0mtensorflow\u001b[0m\u001b[0;34m.\u001b[0m\u001b[0mcore\u001b[0m\u001b[0;34m.\u001b[0m\u001b[0mprotobuf\u001b[0m \u001b[0;32mimport\u001b[0m \u001b[0mrewriter_config_pb2\u001b[0m\u001b[0;34m\u001b[0m\u001b[0;34m\u001b[0m\u001b[0m\n\u001b[0;32m---> 36\u001b[0;31m \u001b[0;32mfrom\u001b[0m \u001b[0mtensorflow\u001b[0m\u001b[0;34m.\u001b[0m\u001b[0mpython\u001b[0m \u001b[0;32mimport\u001b[0m \u001b[0mpywrap_tfe\u001b[0m\u001b[0;34m\u001b[0m\u001b[0;34m\u001b[0m\u001b[0m\n\u001b[0m\u001b[1;32m     37\u001b[0m \u001b[0;32mfrom\u001b[0m \u001b[0mtensorflow\u001b[0m\u001b[0;34m.\u001b[0m\u001b[0mpython\u001b[0m \u001b[0;32mimport\u001b[0m \u001b[0mtf2\u001b[0m\u001b[0;34m\u001b[0m\u001b[0;34m\u001b[0m\u001b[0m\n\u001b[1;32m     38\u001b[0m \u001b[0;32mfrom\u001b[0m \u001b[0mtensorflow\u001b[0m\u001b[0;34m.\u001b[0m\u001b[0mpython\u001b[0m\u001b[0;34m.\u001b[0m\u001b[0mclient\u001b[0m \u001b[0;32mimport\u001b[0m \u001b[0mpywrap_tf_session\u001b[0m\u001b[0;34m\u001b[0m\u001b[0;34m\u001b[0m\u001b[0m\n",
      "\u001b[0;32m~/opt/anaconda3/lib/python3.8/site-packages/tensorflow/python/pywrap_tfe.py\u001b[0m in \u001b[0;36m<module>\u001b[0;34m\u001b[0m\n\u001b[1;32m     27\u001b[0m \u001b[0;31m# pylint: disable=invalid-import-order,g-bad-import-order, wildcard-import, unused-import\u001b[0m\u001b[0;34m\u001b[0m\u001b[0;34m\u001b[0m\u001b[0;34m\u001b[0m\u001b[0m\n\u001b[1;32m     28\u001b[0m \u001b[0;32mfrom\u001b[0m \u001b[0mtensorflow\u001b[0m\u001b[0;34m.\u001b[0m\u001b[0mpython\u001b[0m \u001b[0;32mimport\u001b[0m \u001b[0mpywrap_tensorflow\u001b[0m\u001b[0;34m\u001b[0m\u001b[0;34m\u001b[0m\u001b[0m\n\u001b[0;32m---> 29\u001b[0;31m \u001b[0;32mfrom\u001b[0m \u001b[0mtensorflow\u001b[0m\u001b[0;34m.\u001b[0m\u001b[0mpython\u001b[0m\u001b[0;34m.\u001b[0m\u001b[0m_pywrap_tfe\u001b[0m \u001b[0;32mimport\u001b[0m \u001b[0;34m*\u001b[0m\u001b[0;34m\u001b[0m\u001b[0;34m\u001b[0m\u001b[0m\n\u001b[0m",
      "\u001b[0;31mImportError\u001b[0m: dlopen(/Users/alfredosuarez/opt/anaconda3/lib/python3.8/site-packages/tensorflow/python/_pywrap_tfe.so, 0x0002): Library not loaded: @rpath/_pywrap_tensorflow_internal.so\n  Referenced from: /Users/alfredosuarez/opt/anaconda3/lib/python3.8/site-packages/tensorflow/python/_pywrap_tfe.so\n  Reason: tried: '/Users/alfredosuarez/opt/anaconda3/lib/python3.8/site-packages/tensorflow/python/../../_solib_darwin_x86_64/_U_S_Stensorflow_Spython_C_Upywrap_Utfe.so___Utensorflow/_pywrap_tensorflow_internal.so' (no such file), '/Users/alfredosuarez/opt/anaconda3/lib/python3.8/site-packages/tensorflow/python/../../_solib_darwin_x86_64/_U_S_Stensorflow_Spython_C_Upywrap_Utensorflow_Uinternal_Umacos___Utensorflow_Spython/_pywrap_tensorflow_internal.so' (no such file), '/Users/alfredosuarez/opt/anaconda3/lib/python3.8/site-packages/tensorflow/python/_pywrap_tensorflow_internal.so' (no such file), '/Users/alfredosuarez/opt/anaconda3/lib/python3.8/site-packages/tensorflow/python/../_pywrap_tensorflow_internal.so' (no such file), '/Users/alfredosuarez/opt/anaconda3/lib/python3.8/site-packages/tensorflow/python/../../_solib_darwin_x86_64/_U_S_Stensorflow_Spython_C_Upywrap_Utfe.so___Utensorflow/_pywrap_tensorflow_internal.so' (no such file), '/Users/alfredosuarez/opt/anaconda3/lib/python3.8/site-packages/tensorflow/python/../../_solib_darwin_x86_64/_U_S_Stensorflow_Spython_C_Upywrap_Utensorflow_Uinternal_Umacos___Utensorflow_Spython/_pywrap_tensorflow_internal.so' (no such file), '/Users/alfredosuarez/opt/anaconda3/lib/python3.8/site-packages/tensorflow/python/_pywrap_tensorflow_internal.so' (no such file), '/Users/alfredosuarez/opt/anaconda3/lib/python3.8/site-packages/tensorflow/python/../_pywrap_tensorflow_internal.so' (no such file), '/Users/alfredosuarez/opt/anaconda3/lib/_pywrap_tensorflow_internal.so' (no such file), '/Users/alfredosuarez/opt/anaconda3/bin/../lib/_pywrap_tensorflow_internal.so' (no such file), '/Users/alfredosuarez/opt/anaconda3/lib/_pywrap_tensorflow_internal.so' (no such file), '/Users/alfredosuarez/opt/anaconda3/bin/../lib/_pywrap_tensorflow_internal.so' (no such file), '/usr/local/lib/_pywrap_tensorflow_internal.so' (no such file), '/usr/lib/_pywrap_tensorflow_internal.so' (no such file)"
     ]
    }
   ],
   "source": [
    "import numpy\n",
    "import pandas\n",
    "import tensorflow"
   ]
  },
  {
   "cell_type": "code",
   "execution_count": null,
   "id": "8d15092e",
   "metadata": {},
   "outputs": [],
   "source": [
    "# Read in datasets\n",
    "raw_twitter_training = pd.read_csv('Datasets/twitter_training.csv')\n",
    "raw_twitter_validation = pd.read_csv('Datasets/twitter_validation.csv')\n",
    "\n",
    "# Create new dataset via feature reduction\n",
    "twitter_training = raw_twitter_training[['Sentiment', 'Tweet Content']]\n",
    "twitter_validation = raw_twitter_validation[['Sentiment', 'Tweet Content']]"
   ]
  }
 ],
 "metadata": {
  "kernelspec": {
   "display_name": "Python 3",
   "language": "python",
   "name": "python3"
  },
  "language_info": {
   "codemirror_mode": {
    "name": "ipython",
    "version": 3
   },
   "file_extension": ".py",
   "mimetype": "text/x-python",
   "name": "python",
   "nbconvert_exporter": "python",
   "pygments_lexer": "ipython3",
   "version": "3.8.8"
  }
 },
 "nbformat": 4,
 "nbformat_minor": 5
}
