{
 "cells": [
  {
   "cell_type": "markdown",
   "id": "827bb961",
   "metadata": {},
   "source": [
    "# Sentiment Analysis IPYNB File\n",
    "\n",
    "This file uses tweets and develops a model that can - based on those tweets - understand sentiment of natural language and detect whether any given statement is more positive or negative."
   ]
  },
  {
   "cell_type": "code",
   "execution_count": null,
   "id": "341ab4c5",
   "metadata": {},
   "outputs": [],
   "source": [
    "!pip install numpy==1.18.0\n",
    "!pip install pandas==1.3.5\n",
    "!pip install tensorflow==2.7.0"
   ]
  }
 ],
 "metadata": {
  "kernelspec": {
   "display_name": "Python 3",
   "language": "python",
   "name": "python3"
  },
  "language_info": {
   "codemirror_mode": {
    "name": "ipython",
    "version": 3
   },
   "file_extension": ".py",
   "mimetype": "text/x-python",
   "name": "python",
   "nbconvert_exporter": "python",
   "pygments_lexer": "ipython3",
   "version": "3.8.8"
  }
 },
 "nbformat": 4,
 "nbformat_minor": 5
}
